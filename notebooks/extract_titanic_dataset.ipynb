{
 "cells": [
  {
   "cell_type": "code",
   "execution_count": 1,
   "metadata": {},
   "outputs": [
    {
     "name": "stdout",
     "output_type": "stream",
     "text": [
      "Collecting python-dotenv\n",
      "  Downloading https://files.pythonhosted.org/packages/85/9f/b76a51bb851fa25f7a162a16297f4473c67ec42dd55e4f7fc5b43913a606/python_dotenv-0.8.2-py2.py3-none-any.whl\n",
      "Installing collected packages: python-dotenv\n",
      "Successfully installed python-dotenv-0.8.2\n"
     ]
    }
   ],
   "source": [
    "!pip install python-dotenv\n"
   ]
  },
  {
   "cell_type": "code",
   "execution_count": 2,
   "metadata": {},
   "outputs": [],
   "source": [
    "from dotenv import load_dotenv,find_dotenv"
   ]
  },
  {
   "cell_type": "code",
   "execution_count": 23,
   "metadata": {},
   "outputs": [],
   "source": [
    "get_raw_data_script_file = os.path.join(os.path.pardir,'src','data','get_raw_data.py')\n"
   ]
  },
  {
   "cell_type": "code",
   "execution_count": 42,
   "metadata": {},
   "outputs": [
    {
     "name": "stdout",
     "output_type": "stream",
     "text": [
      "Overwriting ..\\src\\data\\get_raw_data.py\n"
     ]
    }
   ],
   "source": [
    "%%writefile $get_raw_data_script_file\n",
    "import os\n",
    "from dotenv import find_dotenv,load_dotenv\n",
    "from requests import session\n",
    "import logging\n",
    "payload = {\n",
    "    'action':'login',\n",
    "    'username': os.environ.get(\"KAGGLE_USERNAME\"),\n",
    "    'password':os.environ.get(\"KAGGLE_PASSWORD\")\n",
    "}\n",
    "\n",
    "def extract_data(url,file_path):\n",
    "    with session() as c:\n",
    "        c.post('https://www.kaggle.com/account/login',data=payload)\n",
    "        with open(file_path,'wb') as handle:\n",
    "            response = c.get(url,stream=True)\n",
    "            for block in response.iter_content(1024):\n",
    "                handle.write(block)\n",
    "                \n",
    "                \n",
    "\n",
    "def main(project_dir):\n",
    "    logger=logging.getLogger(__name__)\n",
    "    logger.info('getting raw data')\n",
    "    \n",
    "    train_url='https://storage.googleapis.com/kaggle-competitions-data/kaggle/3136/train.csv?GoogleAccessId=web-data@kaggle-161607.iam.gserviceaccount.com&Expires=1531812697&Signature=MSOPySFTrgAMb9d0AjezY0sVQTC3SctlqKJAZEkSofRwf%2Bxs2N1Y4n3%2BbHwCb9g7BdydDGA%2BmbPL9E66ox0iPYSppoNHRgHEaKljrOzqykWPJyUZ0i8x%2FQl78iWXcMvEwx9IVlzqv1DwZPy%2FpPZgSpvo70QQi61BTyjijXEdm9msXJ0i5kFxpA%2BZzlx5Q8vrzFgXQZQCmxyzbUqZUA0Sd7jjTwSMd1qvtZiePQXrrbk88YUiHPS9V%2Fibqwk6QpedOYgdbW4%2FdGliLLQF6n2I8AWRhljmPn2AcKVbm74buGF5GeMUN7AadpbhvoxXbZP9DqT7eGqEAoWWsbHjU16liA%3D%3D'\n",
    "    test_url='https://storage.googleapis.com/kaggle-competitions-data/kaggle/3136/test.csv?GoogleAccessId=web-data@kaggle-161607.iam.gserviceaccount.com&Expires=1531812601&Signature=K61giqhHSRDGY0lsI7O9eJ5rNgS0DWW4mhj6l2%2FmqIe3pmt9eJeC9gAPkxzdZNTe5krl3EdHpu7k%2FqSEwiI9K0ATcX7kIKI2iMf0NbBfSqxplrFl5AJqUt2bH0sP5VMTMk%2FuSvIjhG1HmZ94LLaSl3pW12gBL7MixN0DmKo%2FTadH4Yg0fw8RPg6aMe0mfBVqsDfcZGUGrdPvKC4JPT1b7nIjmzWX2oc6zHdvIUfS4alVJPl6jpdPqePhpL9ILvnwJiduyA9591EeJ4rc8RpjHyTxRit9xyGfGtbltEVS%2B3Gsg5WTtDtVdVa24Qz53Jh2IjgVv0LZfyyER6381hB4jg%3D%3D'\n",
    "    \n",
    "    raw_data_path = os.path.join(project_dir,'data','raw')\n",
    "    train_data_path = os.path.join(raw_data_path, 'train.csv')\n",
    "    test_data_path = os.path.join(raw_data_path, 'test.csv')\n",
    "    \n",
    "    extract_data(train_url,train_data_path)\n",
    "    extract_data(test_url,test_data_path)\n",
    "    logger.info('downloaded raw training & test data')\n",
    "    \n",
    "if __name__ == '__main__':\n",
    "    project_dir=os.path.join(os.path.dirname(__file__),os.pardir,os.pardir)\n",
    "    log_fmt='%(asctime)s - %(name)s - %(levelname)s - %(message)s'\n",
    "    logging.basicConfig(level=logging.INFO,format=log_fmt)\n",
    "    dotenv_path=find_dotenv()\n",
    "    load_dotenv(dotenv_path)\n",
    "    main(project_dir)\n",
    "    \n"
   ]
  },
  {
   "cell_type": "code",
   "execution_count": 43,
   "metadata": {},
   "outputs": [
    {
     "name": "stderr",
     "output_type": "stream",
     "text": [
      "2018-07-14 13:02:14,052 - __main__ - INFO - getting raw data\n",
      "2018-07-14 13:02:19,221 - __main__ - INFO - downloaded raw training & test data\n"
     ]
    }
   ],
   "source": [
    "!python $get_raw_data_script_file"
   ]
  }
 ],
 "metadata": {
  "kernelspec": {
   "display_name": "Python 3",
   "language": "python",
   "name": "python3"
  },
  "language_info": {
   "codemirror_mode": {
    "name": "ipython",
    "version": 3
   },
   "file_extension": ".py",
   "mimetype": "text/x-python",
   "name": "python",
   "nbconvert_exporter": "python",
   "pygments_lexer": "ipython3",
   "version": "3.6.5"
  }
 },
 "nbformat": 4,
 "nbformat_minor": 2
}
